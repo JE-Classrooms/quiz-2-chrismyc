{
 "cells": [
  {
   "cell_type": "markdown",
   "metadata": {},
   "source": [
    "# Quiz 2\n",
    "\n",
    "**Author:**"
   ]
  },
  {
   "cell_type": "markdown",
   "metadata": {},
   "source": [
    "**Exercise 1:** \n",
    "\n",
    "Create a function that takes a string composed of a combination of letters and numbers as input, extracts only the numbers, and returns the minimum, maximum, and sum of the numbers. Use the function to print the minimum, maximum, and sum for the following strings:\n",
    "\n",
    "**(a)** 'aBnAdC2m45m6m789m34'\n",
    "\n",
    "**Expected output:** Minimum:  2 Maximum:  9 Sum:  48\n",
    "\n",
    "**(b)** 'AABBBCCccD12345'\n",
    "\n",
    "**Expected output:** Minimum:  1 Maximum:  5 Sum:  15\n",
    "\n",
    "**(c)** '1541615'\n",
    "\n",
    "**Expected output:** Minimum:  1 Maximum:  6 Sum:  23\n",
    "\n",
    "*Hint:* notice that numbers are not upper case not lower case! (recall Exercise 1 from Lecture 9 and the function ```int()```)\n"
   ]
  },
  {
   "cell_type": "code",
   "execution_count": 47,
   "metadata": {},
   "outputs": [
    {
     "name": "stdout",
     "output_type": "stream",
     "text": [
      "2 9 48\n",
      "1 5 15\n",
      "1 6 23\n"
     ]
    }
   ],
   "source": [
    "\n",
    "def numbers(a):\n",
    "    sumis=0\n",
    "    maximum=0\n",
    "    minimum=99999999999\n",
    "    for x in a:\n",
    "        if x.isnumeric():\n",
    "            sumis+=int(x)\n",
    "            if int(x)>maximum:\n",
    "                maximum=int(x)\n",
    "                if int(x)<minimum:\n",
    "                    minimum=int(x)\n",
    "    print(minimum,maximum,sumis)\n",
    "    \n",
    "numbers('aBnAdC2m45m6m789m34')\n",
    "numbers( 'AABBBCCccD12345')\n",
    "numbers('1541615')\n",
    "    "
   ]
  },
  {
   "cell_type": "markdown",
   "metadata": {},
   "source": [
    "**Exercise 2:**\n",
    "\n",
    "Create a function that takes any arbitrary dictionary that contains the key ```radius``` as an input and returns the area of a circle with that radius. Calculate the area for the following two dictionaries:\n",
    "\n",
    "**(a)** {'a':10, 'b':160, 'radius':5, 'what':0}\n",
    "\n",
    "**Expected output:** 15.707963267948966\n",
    "\n",
    "**(b)** {1:5, 4:8, 'radius':13, 10:10, 20:20}\n",
    "\n",
    "**Expected output:** 40.840704496667314\n",
    "\n",
    "*Hint* the area of a circle is $\\pi*radius^2$. You can use $\\pi$ with the library ```math``` as ```math.pi``` (check the dictionaries.ipynb to remember how to get the value of a key)"
   ]
  },
  {
   "cell_type": "code",
   "execution_count": 71,
   "metadata": {},
   "outputs": [
    {
     "name": "stdout",
     "output_type": "stream",
     "text": [
      "78.53981633974483\n",
      "530.929158456675\n"
     ]
    }
   ],
   "source": [
    "import math\n",
    "a= {'a':10, 'b':160, 'radius':5, 'what':0}\n",
    "def area(a):\n",
    "    radius=0\n",
    "    radius=a['radius']\n",
    "    area=(math.pi)*(radius**2)\n",
    "    print(area)\n",
    "    \n",
    "area({'a':10, 'b':160, 'radius':5, 'what':0})\n",
    "area({1:5, 4:8, 'radius':13, 10:10, 20:20})"
   ]
  },
  {
   "cell_type": "markdown",
   "metadata": {},
   "source": [
    "**Exercise 3:**\n",
    "\n",
    "Write a Python function to sum all the numbers in a list. Provide a result for the function with three numbers of your choice."
   ]
  },
  {
   "cell_type": "code",
   "execution_count": 73,
   "metadata": {},
   "outputs": [
    {
     "name": "stdout",
     "output_type": "stream",
     "text": [
      "6\n"
     ]
    }
   ],
   "source": [
    "def sum(x):\n",
    "    sum=x[0]+x[1]+x[2]\n",
    "    print(sum)\n",
    "    \n",
    "a=[1,2,3]\n",
    "sum(a)"
   ]
  },
  {
   "cell_type": "code",
   "execution_count": null,
   "metadata": {},
   "outputs": [],
   "source": []
  },
  {
   "cell_type": "code",
   "execution_count": null,
   "metadata": {},
   "outputs": [],
   "source": []
  }
 ],
 "metadata": {
  "kernelspec": {
   "display_name": "conda_amazonei_mxnet_p36",
   "language": "python",
   "name": "conda_amazonei_mxnet_p36"
  },
  "language_info": {
   "codemirror_mode": {
    "name": "ipython",
    "version": 3
   },
   "file_extension": ".py",
   "mimetype": "text/x-python",
   "name": "python",
   "nbconvert_exporter": "python",
   "pygments_lexer": "ipython3",
   "version": "3.6.13"
  },
  "vscode": {
   "interpreter": {
    "hash": "9fbb33e86ca55080a202fed700efde3fb4ffe3f46131e5b52201b9ba06ce5f72"
   }
  }
 },
 "nbformat": 4,
 "nbformat_minor": 4
}
